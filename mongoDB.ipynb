{
 "cells": [
  {
   "cell_type": "markdown",
   "metadata": {},
   "source": [
    "# 1. MongoDB e Python"
   ]
  },
  {
   "cell_type": "markdown",
   "metadata": {},
   "source": [
    "Instalar o pacote scrapy: *conda install -c conda-forge scrapy*"
   ]
  },
  {
   "cell_type": "markdown",
   "metadata": {},
   "source": [
    "## 1.1. Conexão com a base de dados"
   ]
  },
  {
   "cell_type": "code",
   "execution_count": null,
   "metadata": {},
   "outputs": [],
   "source": [
    "#importação de biblioteca\n",
    "\n",
    "import pymongo\n",
    "import json"
   ]
  },
  {
   "cell_type": "code",
   "execution_count": null,
   "metadata": {},
   "outputs": [],
   "source": [
    "#Conexão ao banco de dados\n",
    "\n",
    "con = pymongo.MongoClient('localhost', 27017)\n",
    "con"
   ]
  },
  {
   "cell_type": "code",
   "execution_count": null,
   "metadata": {},
   "outputs": [],
   "source": [
    "#listar os bancos de dados\n",
    "con.list_database_names()"
   ]
  },
  {
   "cell_type": "code",
   "execution_count": null,
   "metadata": {},
   "outputs": [],
   "source": [
    "file_path = 'D:\\Projetos\\crawlerIGTI\\scraped_items.json'\n",
    "with open(file_path, 'r', encoding='utf8') as f:\n",
    "    data = json.load(f)"
   ]
  },
  {
   "cell_type": "code",
   "execution_count": null,
   "metadata": {},
   "outputs": [],
   "source": [
    "newdb=con['teste3']\n",
    "newcolecao=newdb['collection_teste3']"
   ]
  },
  {
   "cell_type": "code",
   "execution_count": null,
   "metadata": {},
   "outputs": [],
   "source": [
    "newcolecao.insert_many(data)"
   ]
  },
  {
   "cell_type": "code",
   "execution_count": null,
   "metadata": {},
   "outputs": [],
   "source": [
    "#seleciona o banco de dados\n",
    "db = con.teste3\n",
    "db"
   ]
  },
  {
   "cell_type": "code",
   "execution_count": null,
   "metadata": {},
   "outputs": [],
   "source": [
    "#listar as coleções\n",
    "db.list_collection_names()"
   ]
  },
  {
   "cell_type": "code",
   "execution_count": null,
   "metadata": {},
   "outputs": [],
   "source": [
    "#seleciona a coleção\n",
    "collection = db.collection_teste3"
   ]
  },
  {
   "cell_type": "markdown",
   "metadata": {},
   "source": [
    "## 1.2. Normalização de dados"
   ]
  },
  {
   "cell_type": "code",
   "execution_count": null,
   "metadata": {},
   "outputs": [],
   "source": [
    "#importação de pacote/biblioteca\n",
    "import pprint #outro pacote para imprimir\n",
    "\n",
    "documentos = collection.find()\n",
    "for doc in documentos :\n",
    "    pprint.pprint(doc)"
   ]
  },
  {
   "cell_type": "code",
   "execution_count": null,
   "metadata": {},
   "outputs": [],
   "source": [
    "collection.find_one()"
   ]
  },
  {
   "cell_type": "code",
   "execution_count": null,
   "metadata": {},
   "outputs": [],
   "source": [
    "qtd_visualizacoes = int(collection.find_one()['visualizacoes_artigo'].split()[0].replace('.',''))\n",
    "\n",
    "print(type(qtd_visualizacoes))\n",
    "print(qtd_visualizacoes)\n"
   ]
  },
  {
   "cell_type": "code",
   "execution_count": null,
   "metadata": {},
   "outputs": [],
   "source": [
    "condicao = {'url_artigo':collection.find_one()['url_artigo']}\n",
    "print(condicao)\n",
    "valor = { \"$set\": { 'visualizacoes_artigo': '20 visualizacoes'} }\n",
    "print(valor)"
   ]
  },
  {
   "cell_type": "code",
   "execution_count": null,
   "metadata": {},
   "outputs": [],
   "source": []
  },
  {
   "cell_type": "code",
   "execution_count": null,
   "metadata": {},
   "outputs": [],
   "source": [
    "collection.find_one()"
   ]
  },
  {
   "cell_type": "code",
   "execution_count": null,
   "metadata": {},
   "outputs": [],
   "source": [
    "documentos = collection.find()\n",
    "for doc in documentos :\n",
    "    qtd_visualizacoes = int(doc['visualizacoes_artigo'].split()[0].replace('.',''))\n",
    "    condicao = {'url_artigo': doc['url_artigo']}\n",
    "    valor = { \"$set\": { 'visualizacoes_artigo': qtd_visualizacoes}}\n",
    "    collection.update_one(condicao, valor)"
   ]
  },
  {
   "cell_type": "code",
   "execution_count": null,
   "metadata": {},
   "outputs": [],
   "source": [
    "documentos = collection.find()\n",
    "for doc in documentos :\n",
    "    qtd_visualizacoes = int(doc['comentarios_artigo'].split()[0].replace('.',''))\n",
    "    condicao = {'url_artigo': doc['url_artigo']}\n",
    "    valor = { \"$set\": { 'comentarios_artigo': qtd_visualizacoes}}\n",
    "    collection.update_one(condicao, valor)"
   ]
  },
  {
   "cell_type": "markdown",
   "metadata": {},
   "source": [
    "## 1.2. Consultas"
   ]
  },
  {
   "cell_type": "markdown",
   "metadata": {},
   "source": [
    "### 1.2.1. Filtros"
   ]
  },
  {
   "cell_type": "markdown",
   "metadata": {},
   "source": [
    "Ela busca os dados no MongoDB e tem 2 paramêtros principais: Um filtra documentos que obedecem uma ou várias condições e o outro filtra os atributos que serão exibidos ou ocultados do resultado da query.\n",
    "A sintaxe básica é: **db.NomeColeção.find({condição}, {atributos exibidos ou não})**"
   ]
  },
  {
   "cell_type": "code",
   "execution_count": null,
   "metadata": {},
   "outputs": [],
   "source": [
    "documentos = collection.find() #retornar todos os documentos\n",
    "for doc in documentos :\n",
    "    pprint.pprint(doc)"
   ]
  },
  {
   "cell_type": "code",
   "execution_count": null,
   "metadata": {},
   "outputs": [],
   "source": [
    "documentos = collection.find({},{'categoria_artigo', 'titulo_artigo'}) #selecionar atributos para serem exibidos\n",
    "for doc in documentos :\n",
    "    pprint.pprint(doc)"
   ]
  },
  {
   "cell_type": "code",
   "execution_count": null,
   "metadata": {},
   "outputs": [],
   "source": [
    "documentos = collection.find({'categoria_artigo':'DATA SCIENCE'},{'categoria_artigo', 'titulo_artigo'}) \n",
    "for doc in documentos :\n",
    "    pprint.pprint(doc)"
   ]
  },
  {
   "cell_type": "code",
   "execution_count": null,
   "metadata": {},
   "outputs": [],
   "source": [
    "documentos = collection.find({'categoria_artigo':'DATA SCIENCE'})\n",
    "for doc in documentos :\n",
    "    pprint.pprint(doc)"
   ]
  },
  {
   "cell_type": "code",
   "execution_count": null,
   "metadata": {},
   "outputs": [],
   "source": [
    "documentos = collection.find({'categoria_artigo':'DATA SCIENCE'}).limit(2)\n",
    "for doc in documentos :\n",
    "    pprint.pprint(doc)"
   ]
  },
  {
   "cell_type": "code",
   "execution_count": null,
   "metadata": {},
   "outputs": [],
   "source": [
    "collection.distinct('categoria_artigo') #Para consultar os valores distintos de um atributo existente nos documentos de uma coleção"
   ]
  },
  {
   "cell_type": "markdown",
   "metadata": {},
   "source": [
    "### Ordenação"
   ]
  },
  {
   "cell_type": "code",
   "execution_count": null,
   "metadata": {},
   "outputs": [],
   "source": [
    "documentos = collection.find({'categoria_artigo':'DATA SCIENCE'}).sort('titulo_artigo', -1)\n",
    "for doc in documentos :\n",
    "    pprint.pprint(doc)"
   ]
  },
  {
   "cell_type": "code",
   "execution_count": null,
   "metadata": {},
   "outputs": [],
   "source": [
    "documentos = collection.find({'categoria_artigo':'DATA SCIENCE'}).sort('titulo_artigo', 1)\n",
    "for doc in documentos :\n",
    "    pprint.pprint(doc)"
   ]
  },
  {
   "cell_type": "markdown",
   "metadata": {},
   "source": [
    "Operadores:\n",
    "- \\$and – operador lógico AND\n",
    "- \\$or – operador lógico OR\n",
    "- \\$not – operador lógico NOT\n",
    "- \\$gt = maior que\n",
    "- \\$lt = menor que\n",
    "- \\$gte = maior ou igual\n",
    "- \\$lte = menor ou igual\n",
    "- \\$ne = diferente de\n",
    "- \\$in = todos os documentos cujo atributo possui um dos valores especificados (no SQL operador IN)\n",
    "- \\$nin = todos os documentos cujo atributo não possui um dos valores especificados (no SQL operador NOT IN)\n"
   ]
  },
  {
   "cell_type": "code",
   "execution_count": null,
   "metadata": {},
   "outputs": [],
   "source": [
    "documentos = collection.find({'visualizacoes_artigo':{\"$gt\" : 30000}})\n",
    "for doc in documentos :\n",
    "    pprint.pprint(doc)"
   ]
  },
  {
   "cell_type": "code",
   "execution_count": null,
   "metadata": {},
   "outputs": [],
   "source": [
    "documentos = collection.find({'$and':[{'categoria_artigo':'DATA SCIENCE'}, {'categoria_artigo':'Data Universe'}]})\n",
    "for doc in documentos :\n",
    "    pprint.pprint(doc)"
   ]
  },
  {
   "cell_type": "code",
   "execution_count": null,
   "metadata": {},
   "outputs": [],
   "source": [
    "collection.count_documents({'visualizacoes_artigo':{\"$gt\" : 30000}})"
   ]
  }
 ],
 "metadata": {
  "kernelspec": {
   "display_name": "Python 3",
   "language": "python",
   "name": "python3"
  },
  "language_info": {
   "codemirror_mode": {
    "name": "ipython",
    "version": 3
   },
   "file_extension": ".py",
   "mimetype": "text/x-python",
   "name": "python",
   "nbconvert_exporter": "python",
   "pygments_lexer": "ipython3",
   "version": "3.7.1"
  }
 },
 "nbformat": 4,
 "nbformat_minor": 4
}
